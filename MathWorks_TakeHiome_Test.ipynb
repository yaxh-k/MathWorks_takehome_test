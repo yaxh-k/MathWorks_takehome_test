{
 "cells": [
  {
   "cell_type": "markdown",
   "metadata": {},
   "source": [
    "**FUNCTION IN TEST**\n",
    "- **pandas.DataFrame.insert**\n",
    "\n",
    "**DOCUMENTATION**\n",
    "- **Function Syntax:**\n",
    "  **<font color='green'>DataFrame.insert(loc, column, value, allow_duplicates=False)</font>**\n",
    "\n",
    "**Function Info**\n",
    "- **Insert column into DataFrame at specified location**\n",
    "- **Raises a ValueError if column is already contained in the DataFrame, unless allow_duplicates is set to True**\n",
    "\n",
    "**Parameters:**\n",
    "\n",
    "- **loc: int [Data Type]**\n",
    "- **Insertion index. Must verify 0 <= loc <= len(columns)**\n",
    "\n",
    "- **column: str, number, or hashable object [Data Type]**\n",
    "- **Label of the inserted column**\n",
    "\n",
    "- **value: Scalar, Series, or array-like [Data Type: list, pandas.series, .array]**\n",
    "\n",
    "- **allow_duplicates: bool [Datat type]**\n",
    "- **(optional) [default==False]**"
   ]
  },
  {
   "cell_type": "markdown",
   "metadata": {},
   "source": [
    "**TEST CODE:**"
   ]
  },
  {
   "cell_type": "markdown",
   "metadata": {},
   "source": [
    "**LIBRARIES**"
   ]
  },
  {
   "cell_type": "code",
   "execution_count": 1,
   "metadata": {},
   "outputs": [],
   "source": [
    "import unittest\n",
    "import pandas as pd\n",
    "import datatest as dt\n",
    "import pandas.testing\n",
    "\n",
    "import warnings\n",
    "warnings.filterwarnings('ignore')\n",
    "\n"
   ]
  },
  {
   "cell_type": "markdown",
   "metadata": {},
   "source": [
    "**SAMPLE DATAFRAME FOR TESTING INSERT FUNCTION**"
   ]
  },
  {
   "cell_type": "code",
   "execution_count": 2,
   "metadata": {},
   "outputs": [
    {
     "data": {
      "text/html": [
       "<div>\n",
       "<style scoped>\n",
       "    .dataframe tbody tr th:only-of-type {\n",
       "        vertical-align: middle;\n",
       "    }\n",
       "\n",
       "    .dataframe tbody tr th {\n",
       "        vertical-align: top;\n",
       "    }\n",
       "\n",
       "    .dataframe thead th {\n",
       "        text-align: right;\n",
       "    }\n",
       "</style>\n",
       "<table border=\"1\" class=\"dataframe\">\n",
       "  <thead>\n",
       "    <tr style=\"text-align: right;\">\n",
       "      <th></th>\n",
       "      <th>numbers</th>\n",
       "      <th>colors</th>\n",
       "    </tr>\n",
       "  </thead>\n",
       "  <tbody>\n",
       "    <tr>\n",
       "      <th>0</th>\n",
       "      <td>1</td>\n",
       "      <td>red</td>\n",
       "    </tr>\n",
       "    <tr>\n",
       "      <th>1</th>\n",
       "      <td>2</td>\n",
       "      <td>white</td>\n",
       "    </tr>\n",
       "    <tr>\n",
       "      <th>2</th>\n",
       "      <td>3</td>\n",
       "      <td>blue</td>\n",
       "    </tr>\n",
       "  </tbody>\n",
       "</table>\n",
       "</div>"
      ],
      "text/plain": [
       "   numbers colors\n",
       "0        1    red\n",
       "1        2  white\n",
       "2        3   blue"
      ]
     },
     "execution_count": 2,
     "metadata": {},
     "output_type": "execute_result"
    }
   ],
   "source": [
    "df =  pd.DataFrame({'numbers': [1, 2, 3], 'colors': ['red', 'white', 'blue']})\n",
    "df\n"
   ]
  },
  {
   "cell_type": "markdown",
   "metadata": {},
   "source": [
    "**TESTING INSERT FUNCTION as expected**"
   ]
  },
  {
   "cell_type": "markdown",
   "metadata": {},
   "source": [
    "- Expected DataFrame"
   ]
  },
  {
   "cell_type": "code",
   "execution_count": 3,
   "metadata": {},
   "outputs": [
    {
     "data": {
      "text/html": [
       "<div>\n",
       "<style scoped>\n",
       "    .dataframe tbody tr th:only-of-type {\n",
       "        vertical-align: middle;\n",
       "    }\n",
       "\n",
       "    .dataframe tbody tr th {\n",
       "        vertical-align: top;\n",
       "    }\n",
       "\n",
       "    .dataframe thead th {\n",
       "        text-align: right;\n",
       "    }\n",
       "</style>\n",
       "<table border=\"1\" class=\"dataframe\">\n",
       "  <thead>\n",
       "    <tr style=\"text-align: right;\">\n",
       "      <th></th>\n",
       "      <th>numbers</th>\n",
       "      <th>colors</th>\n",
       "      <th>newcol</th>\n",
       "    </tr>\n",
       "  </thead>\n",
       "  <tbody>\n",
       "    <tr>\n",
       "      <th>0</th>\n",
       "      <td>1</td>\n",
       "      <td>red</td>\n",
       "      <td>97</td>\n",
       "    </tr>\n",
       "    <tr>\n",
       "      <th>1</th>\n",
       "      <td>2</td>\n",
       "      <td>white</td>\n",
       "      <td>98</td>\n",
       "    </tr>\n",
       "    <tr>\n",
       "      <th>2</th>\n",
       "      <td>3</td>\n",
       "      <td>blue</td>\n",
       "      <td>99</td>\n",
       "    </tr>\n",
       "  </tbody>\n",
       "</table>\n",
       "</div>"
      ],
      "text/plain": [
       "   numbers colors  newcol\n",
       "0        1    red      97\n",
       "1        2  white      98\n",
       "2        3   blue      99"
      ]
     },
     "execution_count": 3,
     "metadata": {},
     "output_type": "execute_result"
    }
   ],
   "source": [
    "\n",
    "df_test = pd.DataFrame({'numbers': [1, 2, 3], 'colors': ['red', 'white', 'blue'], 'newcol' : [97,98,99]})\n",
    "df_test"
   ]
  },
  {
   "cell_type": "code",
   "execution_count": 4,
   "metadata": {},
   "outputs": [
    {
     "name": "stderr",
     "output_type": "stream",
     "text": [
      "test_columns (__main__.TestWriteFile) ... ok\n",
      "\n",
      "----------------------------------------------------------------------\n",
      "Ran 1 test in 0.005s\n",
      "\n",
      "OK\n"
     ]
    },
    {
     "data": {
      "text/plain": [
       "<unittest.main.TestProgram at 0x203a1bb3520>"
      ]
     },
     "execution_count": 4,
     "metadata": {},
     "output_type": "execute_result"
    }
   ],
   "source": [
    "class TestWriteFile(dt.DataTestCase):\n",
    "\n",
    "    def test_columns(self):\n",
    "\n",
    "        df_t = df.copy()       \n",
    "        df_t.insert(2, 'newcol', [97, 98, 99], False)\n",
    "\n",
    "        pandas.testing.assert_frame_equal(df_t, df_test)\n",
    "\n",
    "unittest.main(argv=[''], verbosity=2, exit=False)"
   ]
  },
  {
   "cell_type": "markdown",
   "metadata": {},
   "source": [
    "**TESTS for COLUMN POSITION**  [Parameter: loc]"
   ]
  },
  {
   "cell_type": "markdown",
   "metadata": {},
   "source": [
    "- **Test 1: Checking if function adds the column in the specified position**"
   ]
  },
  {
   "cell_type": "markdown",
   "metadata": {},
   "source": [
    "SPECIFIED POSITION = 2"
   ]
  },
  {
   "cell_type": "code",
   "execution_count": 5,
   "metadata": {},
   "outputs": [
    {
     "name": "stderr",
     "output_type": "stream",
     "text": [
      "test_columns (__main__.TestWriteFile) ... ok\n",
      "\n",
      "----------------------------------------------------------------------\n",
      "Ran 1 test in 0.004s\n",
      "\n",
      "OK\n"
     ]
    },
    {
     "data": {
      "text/plain": [
       "<unittest.main.TestProgram at 0x203a1bb3e50>"
      ]
     },
     "execution_count": 5,
     "metadata": {},
     "output_type": "execute_result"
    }
   ],
   "source": [
    "   \n",
    "class TestWriteFile(dt.DataTestCase):\n",
    "\n",
    "    def test_columns(self):\n",
    "\n",
    "        df_t = df.copy()\n",
    "        df_t.insert(2, 'newcol', [97, 98, 99], False)\n",
    "\n",
    "        self.assertValid(\n",
    "            df_t.columns[2],\n",
    "            {'newcol'},\n",
    "\n",
    "        )\n",
    "unittest.main(argv=[''], verbosity=2, exit=False)"
   ]
  },
  {
   "cell_type": "markdown",
   "metadata": {},
   "source": [
    "- **Test 2: Checking if the function has the exact same values stored under the column**"
   ]
  },
  {
   "cell_type": "code",
   "execution_count": 6,
   "metadata": {},
   "outputs": [
    {
     "name": "stderr",
     "output_type": "stream",
     "text": [
      "test_columns2 (__main__.TestWriteFile) ... C:\\Users\\18572\\AppData\\Local\\Programs\\Python\\Python39\\lib\\site-packages\\datatest\\case.py:48: UserWarning: subset and superset warning:\n",
      "\n",
      "    WARNING: The semantics for the subset() and superset() methods\n",
      "    have been inverted after datatest 0.9.6. Make sure you are using\n",
      "    these methods correctly. See documentation for details:\n",
      "\n",
      "        https://datatest.readthedocs.io/en/stable/reference/datatest-core.html#datatest.validate.subset\n",
      "\n",
      "    To disable this warning use:\n",
      "\n",
      "        import warnings\n",
      "        warnings.filterwarnings('ignore', message='subset and superset warning')\n",
      "\n",
      "    If you are using pytest, you can disable warnings by putting the following\n",
      "    line at the top of your script:\n",
      "\n",
      "        pytestmark = pytest.mark.filterwarnings('ignore:subset and superset warning')\n",
      "\n",
      "    This warning is temporary--it will be removed from future versions\n",
      "    of datatest.\n",
      "\n",
      "Source:\n",
      "  function(*args, **kwds)\n",
      "ok\n",
      "\n",
      "----------------------------------------------------------------------\n",
      "Ran 1 test in 0.006s\n",
      "\n",
      "OK\n"
     ]
    },
    {
     "data": {
      "text/plain": [
       "<unittest.main.TestProgram at 0x203a1bcbfd0>"
      ]
     },
     "execution_count": 6,
     "metadata": {},
     "output_type": "execute_result"
    }
   ],
   "source": [
    "class TestWriteFile(dt.DataTestCase):\n",
    "  \n",
    "\n",
    "    def test_columns2(self):\n",
    "\n",
    "        df_t = df.copy()\n",
    "        df_t.insert(2, 'newcol', [97, 98, 99], False)\n",
    "\n",
    "        self.assertValidSuperset(\n",
    "            df_t['newcol'],\n",
    "            \n",
    "            {97,98,99}\n",
    "\n",
    "            )\n",
    "\n",
    "unittest.main(argv=[''], verbosity=2, exit=False)"
   ]
  },
  {
   "cell_type": "markdown",
   "metadata": {},
   "source": [
    "- **Test 3: Checking if the function gives an error, if the column is not in the specified position range:** [0 <= loc <= len(columns)]"
   ]
  },
  {
   "cell_type": "markdown",
   "metadata": {},
   "source": [
    "Range of Columns"
   ]
  },
  {
   "cell_type": "code",
   "execution_count": 7,
   "metadata": {},
   "outputs": [
    {
     "data": {
      "text/plain": [
       "2"
      ]
     },
     "execution_count": 7,
     "metadata": {},
     "output_type": "execute_result"
    }
   ],
   "source": [
    "len(df.columns)"
   ]
  },
  {
   "cell_type": "markdown",
   "metadata": {},
   "source": [
    "- We can now see the range of our DataFrame is 0 <= loc <= 2; Therefore, passing 4 as in loc parameter [Should Throw an Index Error]"
   ]
  },
  {
   "cell_type": "code",
   "execution_count": 8,
   "metadata": {},
   "outputs": [
    {
     "name": "stderr",
     "output_type": "stream",
     "text": [
      "test_columns (__main__.TestWriteFile) ... ok\n",
      "\n",
      "----------------------------------------------------------------------\n",
      "Ran 1 test in 0.003s\n",
      "\n",
      "OK\n"
     ]
    },
    {
     "data": {
      "text/plain": [
       "<unittest.main.TestProgram at 0x203a1bd9220>"
      ]
     },
     "execution_count": 8,
     "metadata": {},
     "output_type": "execute_result"
    }
   ],
   "source": [
    "   \n",
    "class TestWriteFile(dt.DataTestCase):\n",
    "\n",
    "    def test_columns(self):\n",
    "\n",
    "        df_t = df.copy()\n",
    "        with self.assertRaises(Exception):\n",
    "        \n",
    "            df_t.insert(4, 'newcol', [97, 98, 99], False    \n",
    "\n",
    "        )\n",
    "unittest.main(argv=[''], verbosity=2, exit=False)"
   ]
  },
  {
   "cell_type": "markdown",
   "metadata": {},
   "source": [
    "- **Test 4: Passing a different data type (float) for loc parameter [Should Throw an Type Error]** "
   ]
  },
  {
   "cell_type": "code",
   "execution_count": 9,
   "metadata": {},
   "outputs": [
    {
     "name": "stderr",
     "output_type": "stream",
     "text": [
      "test_columns (__main__.TestWriteFile) ... ok\n",
      "\n",
      "----------------------------------------------------------------------\n",
      "Ran 1 test in 0.002s\n",
      "\n",
      "OK\n"
     ]
    },
    {
     "data": {
      "text/plain": [
       "<unittest.main.TestProgram at 0x203a1bd9ac0>"
      ]
     },
     "execution_count": 9,
     "metadata": {},
     "output_type": "execute_result"
    }
   ],
   "source": [
    "   \n",
    "class TestWriteFile(dt.DataTestCase):\n",
    "\n",
    "    def test_columns(self):\n",
    "\n",
    "        df_t = df.copy()\n",
    "        with self.assertRaises(Exception):\n",
    "        \n",
    "            df_t.insert(4.0, 'newcol', [97, 98, 99], False    \n",
    "\n",
    "        )\n",
    "unittest.main(argv=[''], verbosity=2, exit=False)"
   ]
  },
  {
   "cell_type": "markdown",
   "metadata": {},
   "source": [
    "- **Test 5: Passing a negative int (-1 [possibility to check for inserting in last column]) for loc parameter [Should Throw an Value Error according to doucumentation]**               [Edge Case]   "
   ]
  },
  {
   "cell_type": "code",
   "execution_count": 10,
   "metadata": {},
   "outputs": [
    {
     "name": "stderr",
     "output_type": "stream",
     "text": [
      "test_columns (__main__.TestWriteFile) ... ok\n",
      "\n",
      "----------------------------------------------------------------------\n",
      "Ran 1 test in 0.003s\n",
      "\n",
      "OK\n"
     ]
    },
    {
     "data": {
      "text/plain": [
       "<unittest.main.TestProgram at 0x203a1bb3b50>"
      ]
     },
     "execution_count": 10,
     "metadata": {},
     "output_type": "execute_result"
    }
   ],
   "source": [
    "   \n",
    "class TestWriteFile(dt.DataTestCase):\n",
    "\n",
    "    def test_columns(self):\n",
    "\n",
    "        df_t = df.copy()\n",
    "        with self.assertRaises(Exception):\n",
    "        \n",
    "            df_t.insert(-1, 'newcol', [97, 98, 99], False    \n",
    "\n",
    "        )\n",
    "unittest.main(argv=[''], verbosity=2, exit=False)"
   ]
  },
  {
   "cell_type": "markdown",
   "metadata": {},
   "source": [
    "- **Test 6: Passing a different data type (int list) for loc parameter [Should Throw an Type Error]** "
   ]
  },
  {
   "cell_type": "code",
   "execution_count": 11,
   "metadata": {},
   "outputs": [
    {
     "name": "stderr",
     "output_type": "stream",
     "text": [
      "test_columns (__main__.TestWriteFile) ... ok\n",
      "\n",
      "----------------------------------------------------------------------\n",
      "Ran 1 test in 0.002s\n",
      "\n",
      "OK\n"
     ]
    },
    {
     "data": {
      "text/plain": [
       "<unittest.main.TestProgram at 0x203a1bd9a60>"
      ]
     },
     "execution_count": 11,
     "metadata": {},
     "output_type": "execute_result"
    }
   ],
   "source": [
    "   \n",
    "class TestWriteFile(dt.DataTestCase):\n",
    "\n",
    "    def test_columns(self):\n",
    "\n",
    "        df_t = df.copy()\n",
    "        with self.assertRaises(Exception):\n",
    "        \n",
    "            df_t.insert([0,1], 'newcol', [97, 98, 99], False    \n",
    "\n",
    "        )\n",
    "unittest.main(argv=[''], verbosity=2, exit=False)"
   ]
  },
  {
   "cell_type": "markdown",
   "metadata": {},
   "source": [
    "**TESTS for COLUMN NAME**  [Parameter: column]  [Fixed at Position 2]"
   ]
  },
  {
   "cell_type": "markdown",
   "metadata": {},
   "source": [
    "- **Test 1: Checking if function adds the column name in the specified position w/ a 'string' as a Data Type**"
   ]
  },
  {
   "cell_type": "code",
   "execution_count": 12,
   "metadata": {},
   "outputs": [
    {
     "name": "stderr",
     "output_type": "stream",
     "text": [
      "test_columns (__main__.TestWriteFile) ... FAIL\n",
      "\n",
      "======================================================================\n",
      "FAIL: test_columns (__main__.TestWriteFile)\n",
      "----------------------------------------------------------------------\n",
      "Traceback (most recent call last):\n",
      "  File \"<ipython-input-12-64bc285a23e7>\", line 8, in test_columns\n",
      "    df_t.insert(2, 'newcol', [97, 98, 99], False\n",
      "AssertionError: Exception not raised\n",
      "\n",
      "----------------------------------------------------------------------\n",
      "Ran 1 test in 0.003s\n",
      "\n",
      "FAILED (failures=1)\n"
     ]
    },
    {
     "data": {
      "text/plain": [
       "<unittest.main.TestProgram at 0x203a1bd96a0>"
      ]
     },
     "execution_count": 12,
     "metadata": {},
     "output_type": "execute_result"
    }
   ],
   "source": [
    "   \n",
    "class TestWriteFile(dt.DataTestCase):\n",
    "\n",
    "    def test_columns(self):\n",
    "\n",
    "        df_t = df.copy()\n",
    "        with self.assertRaises(Exception):\n",
    "        \n",
    "            df_t.insert(2, 'newcol', [97, 98, 99], False    \n",
    "\n",
    "        )\n",
    "unittest.main(argv=[''], verbosity=2, exit=False)"
   ]
  },
  {
   "cell_type": "markdown",
   "metadata": {},
   "source": [
    "- **Test 2: Checking if function adds the column name in the specified position w/ a 'int' as a Data Type**"
   ]
  },
  {
   "cell_type": "code",
   "execution_count": 13,
   "metadata": {},
   "outputs": [
    {
     "name": "stderr",
     "output_type": "stream",
     "text": [
      "test_columns (__main__.TestWriteFile) ... FAIL\n",
      "\n",
      "======================================================================\n",
      "FAIL: test_columns (__main__.TestWriteFile)\n",
      "----------------------------------------------------------------------\n",
      "Traceback (most recent call last):\n",
      "  File \"<ipython-input-13-f8f14a26794f>\", line 8, in test_columns\n",
      "    df_t.insert(2, 1234, [97, 98, 99], False\n",
      "AssertionError: Exception not raised\n",
      "\n",
      "----------------------------------------------------------------------\n",
      "Ran 1 test in 0.003s\n",
      "\n",
      "FAILED (failures=1)\n"
     ]
    },
    {
     "data": {
      "text/plain": [
       "<unittest.main.TestProgram at 0x203a1becf70>"
      ]
     },
     "execution_count": 13,
     "metadata": {},
     "output_type": "execute_result"
    }
   ],
   "source": [
    "   \n",
    "class TestWriteFile(dt.DataTestCase):\n",
    "\n",
    "    def test_columns(self):\n",
    "\n",
    "        df_t = df.copy()\n",
    "        with self.assertRaises(Exception):\n",
    "        \n",
    "            df_t.insert(2, 1234, [97, 98, 99], False    \n",
    "\n",
    "        )\n",
    "unittest.main(argv=[''], verbosity=2, exit=False)"
   ]
  },
  {
   "cell_type": "markdown",
   "metadata": {},
   "source": [
    "- **Test 3: Checking if function adds the column name in the specified position w/ a 'float' as a Data Type**"
   ]
  },
  {
   "cell_type": "code",
   "execution_count": 14,
   "metadata": {},
   "outputs": [
    {
     "name": "stderr",
     "output_type": "stream",
     "text": [
      "test_columns (__main__.TestWriteFile) ... FAIL\n",
      "\n",
      "======================================================================\n",
      "FAIL: test_columns (__main__.TestWriteFile)\n",
      "----------------------------------------------------------------------\n",
      "Traceback (most recent call last):\n",
      "  File \"<ipython-input-14-c4cdff5b1b1c>\", line 8, in test_columns\n",
      "    df_t.insert(2, 1234.1234, [97, 98, 99], False\n",
      "AssertionError: Exception not raised\n",
      "\n",
      "----------------------------------------------------------------------\n",
      "Ran 1 test in 0.003s\n",
      "\n",
      "FAILED (failures=1)\n"
     ]
    },
    {
     "data": {
      "text/plain": [
       "<unittest.main.TestProgram at 0x20381fdbaf0>"
      ]
     },
     "execution_count": 14,
     "metadata": {},
     "output_type": "execute_result"
    }
   ],
   "source": [
    "   \n",
    "class TestWriteFile(dt.DataTestCase):\n",
    "\n",
    "    def test_columns(self):\n",
    "\n",
    "        df_t = df.copy()\n",
    "        with self.assertRaises(Exception):\n",
    "        \n",
    "            df_t.insert(2, 1234.1234, [97, 98, 99], False    \n",
    "\n",
    "        )\n",
    "unittest.main(argv=[''], verbosity=2, exit=False)"
   ]
  },
  {
   "cell_type": "markdown",
   "metadata": {},
   "source": [
    "- **Test 4: Checking if function adds the column name in the specified position w/ a 'list' as a Data Type**"
   ]
  },
  {
   "cell_type": "markdown",
   "metadata": {},
   "source": [
    "DataFrame with float as column name in the specified position"
   ]
  },
  {
   "cell_type": "code",
   "execution_count": 15,
   "metadata": {},
   "outputs": [
    {
     "name": "stderr",
     "output_type": "stream",
     "text": [
      "test_columns (__main__.TestWriteFile) ... ok\n",
      "\n",
      "----------------------------------------------------------------------\n",
      "Ran 1 test in 0.002s\n",
      "\n",
      "OK\n"
     ]
    },
    {
     "data": {
      "text/plain": [
       "<unittest.main.TestProgram at 0x203a1bd9520>"
      ]
     },
     "execution_count": 15,
     "metadata": {},
     "output_type": "execute_result"
    }
   ],
   "source": [
    "   \n",
    "class TestWriteFile(dt.DataTestCase):\n",
    "\n",
    "    def test_columns(self):\n",
    "\n",
    "        df_t = df.copy()\n",
    "        with self.assertRaises(Exception):\n",
    "        \n",
    "            df_t.insert(2, [1234,1234], [97, 98, 99], False    \n",
    "\n",
    "        )\n",
    "unittest.main(argv=[''], verbosity=2, exit=False)"
   ]
  },
  {
   "cell_type": "markdown",
   "metadata": {},
   "source": [
    "- **Test 5: Checking if function adds the column name in the specified position as a hashable object**"
   ]
  },
  {
   "cell_type": "code",
   "execution_count": 16,
   "metadata": {},
   "outputs": [
    {
     "name": "stderr",
     "output_type": "stream",
     "text": [
      "test_columns (__main__.TestWriteFile) ... FAIL\n",
      "\n",
      "======================================================================\n",
      "FAIL: test_columns (__main__.TestWriteFile)\n",
      "----------------------------------------------------------------------\n",
      "Traceback (most recent call last):\n",
      "  File \"<ipython-input-16-4773a3d50f27>\", line 9, in test_columns\n",
      "    df_t.insert(2, var1.__hash__(), [97, 98, 99], False\n",
      "AssertionError: Exception not raised\n",
      "\n",
      "----------------------------------------------------------------------\n",
      "Ran 1 test in 0.005s\n",
      "\n",
      "FAILED (failures=1)\n"
     ]
    },
    {
     "data": {
      "text/plain": [
       "<unittest.main.TestProgram at 0x203a1bf8fa0>"
      ]
     },
     "execution_count": 16,
     "metadata": {},
     "output_type": "execute_result"
    }
   ],
   "source": [
    "\n",
    "class TestWriteFile(dt.DataTestCase):\n",
    "\n",
    "    def test_columns(self):\n",
    "\n",
    "        df_t = df.copy()\n",
    "        var1 = (1, 2, 3)\n",
    "        with self.assertRaises(Exception):\n",
    "        \n",
    "            df_t.insert(2, var1.__hash__(), [97, 98, 99], False    \n",
    "\n",
    "        )\n",
    "unittest.main(argv=[''], verbosity=2, exit=False)"
   ]
  },
  {
   "cell_type": "markdown",
   "metadata": {},
   "source": [
    "**TESTS for COLUMN VALUES**  [Parameter: value] [Fixed at Position 2, and Column name = 'newcol']"
   ]
  },
  {
   "cell_type": "markdown",
   "metadata": {},
   "source": [
    "- **Test 1: Checking if function adds the column value as a scalar (float)**"
   ]
  },
  {
   "cell_type": "code",
   "execution_count": 17,
   "metadata": {},
   "outputs": [
    {
     "name": "stderr",
     "output_type": "stream",
     "text": [
      "test_columns (__main__.TestWriteFile) ... FAIL\n",
      "\n",
      "======================================================================\n",
      "FAIL: test_columns (__main__.TestWriteFile)\n",
      "----------------------------------------------------------------------\n",
      "Traceback (most recent call last):\n",
      "  File \"<ipython-input-17-5782764a8bfe>\", line 8, in test_columns\n",
      "    df_t.insert(2, 'newcol', 99.99, False\n",
      "AssertionError: Exception not raised\n",
      "\n",
      "----------------------------------------------------------------------\n",
      "Ran 1 test in 0.004s\n",
      "\n",
      "FAILED (failures=1)\n"
     ]
    },
    {
     "data": {
      "text/plain": [
       "<unittest.main.TestProgram at 0x203a1bffeb0>"
      ]
     },
     "execution_count": 17,
     "metadata": {},
     "output_type": "execute_result"
    }
   ],
   "source": [
    "\n",
    "class TestWriteFile(dt.DataTestCase):\n",
    "\n",
    "    def test_columns(self):\n",
    "\n",
    "        df_t = df.copy()\n",
    "        with self.assertRaises(Exception):\n",
    "        \n",
    "            df_t.insert(2, 'newcol', 99.99, False    \n",
    "\n",
    "        )\n",
    "unittest.main(argv=[''], verbosity=2, exit=False)"
   ]
  },
  {
   "cell_type": "markdown",
   "metadata": {},
   "source": [
    "- **Test 2: Checking if function adds the column value as a scalar (list)**   [Edge Case]"
   ]
  },
  {
   "cell_type": "code",
   "execution_count": 18,
   "metadata": {},
   "outputs": [
    {
     "name": "stderr",
     "output_type": "stream",
     "text": [
      "test_columns2 (__main__.TestWriteFile) ... ERROR\n",
      "\n",
      "======================================================================\n",
      "ERROR: test_columns2 (__main__.TestWriteFile)\n",
      "----------------------------------------------------------------------\n",
      "Traceback (most recent call last):\n",
      "  File \"<ipython-input-18-22a0bc775716>\", line 7, in test_columns2\n",
      "    df_t.insert(2, 'newcol', [99.99], False)\n",
      "  File \"C:\\Users\\18572\\AppData\\Local\\Programs\\Python\\Python39\\lib\\site-packages\\pandas\\core\\frame.py\", line 3762, in insert\n",
      "    value = self._sanitize_column(column, value, broadcast=False)\n",
      "  File \"C:\\Users\\18572\\AppData\\Local\\Programs\\Python\\Python39\\lib\\site-packages\\pandas\\core\\frame.py\", line 3899, in _sanitize_column\n",
      "    value = sanitize_index(value, self.index)\n",
      "  File \"C:\\Users\\18572\\AppData\\Local\\Programs\\Python\\Python39\\lib\\site-packages\\pandas\\core\\internals\\construction.py\", line 751, in sanitize_index\n",
      "    raise ValueError(\n",
      "ValueError: Length of values (1) does not match length of index (3)\n",
      "\n",
      "----------------------------------------------------------------------\n",
      "Ran 1 test in 0.007s\n",
      "\n",
      "FAILED (errors=1)\n"
     ]
    },
    {
     "data": {
      "text/plain": [
       "<unittest.main.TestProgram at 0x203a1bcbdf0>"
      ]
     },
     "execution_count": 18,
     "metadata": {},
     "output_type": "execute_result"
    }
   ],
   "source": [
    "class TestWriteFile(dt.DataTestCase):\n",
    "  \n",
    "\n",
    "    def test_columns2(self):\n",
    "\n",
    "        df_t = df.copy()\n",
    "        df_t.insert(2, 'newcol', [99.99], False)\n",
    "\n",
    "        self.assertValidSuperset(\n",
    "            df_t['newcol'],\n",
    "            \n",
    "            {99.99, 99.99, 99.99}\n",
    "\n",
    "            )\n",
    "\n",
    "unittest.main(argv=[''], verbosity=2, exit=False)"
   ]
  },
  {
   "cell_type": "code",
   "execution_count": 19,
   "metadata": {},
   "outputs": [
    {
     "data": {
      "text/plain": [
       "RangeIndex(start=0, stop=3, step=1)"
      ]
     },
     "execution_count": 19,
     "metadata": {},
     "output_type": "execute_result"
    }
   ],
   "source": [
    "df.index\n",
    "\n",
    "#Therefore values in the list should be equal to the RangeIndex \n",
    "#Here, it is 3 values"
   ]
  },
  {
   "cell_type": "code",
   "execution_count": 20,
   "metadata": {},
   "outputs": [
    {
     "name": "stderr",
     "output_type": "stream",
     "text": [
      "test_columns (__main__.TestWriteFile) ... FAIL\n",
      "\n",
      "======================================================================\n",
      "FAIL: test_columns (__main__.TestWriteFile)\n",
      "----------------------------------------------------------------------\n",
      "Traceback (most recent call last):\n",
      "  File \"<ipython-input-20-4816d3fa04ef>\", line 8, in test_columns\n",
      "    df_t.insert(2, 'newcol', [99.99, 99.99, 99.99], False\n",
      "AssertionError: Exception not raised\n",
      "\n",
      "----------------------------------------------------------------------\n",
      "Ran 1 test in 0.003s\n",
      "\n",
      "FAILED (failures=1)\n"
     ]
    },
    {
     "data": {
      "text/plain": [
       "<unittest.main.TestProgram at 0x203a1bf8280>"
      ]
     },
     "execution_count": 20,
     "metadata": {},
     "output_type": "execute_result"
    }
   ],
   "source": [
    "\n",
    "class TestWriteFile(dt.DataTestCase):\n",
    "\n",
    "    def test_columns(self):\n",
    "\n",
    "        df_t = df.copy()\n",
    "        with self.assertRaises(Exception):\n",
    "        \n",
    "            df_t.insert(2, 'newcol', [99.99, 99.99, 99.99], False    \n",
    "\n",
    "        )\n",
    "unittest.main(argv=[''], verbosity=2, exit=False)\n",
    "\n",
    "#As we can see now 'Exception not raised'"
   ]
  },
  {
   "cell_type": "markdown",
   "metadata": {},
   "source": [
    "- **Test 3: Checking if function adds the column value as a scalar None and eqaul to the RangeIndex**  "
   ]
  },
  {
   "cell_type": "code",
   "execution_count": 21,
   "metadata": {},
   "outputs": [
    {
     "name": "stderr",
     "output_type": "stream",
     "text": [
      "test_columns2 (__main__.TestWriteFile) ... C:\\Users\\18572\\AppData\\Local\\Programs\\Python\\Python39\\lib\\site-packages\\datatest\\case.py:48: UserWarning: subset and superset warning:\n",
      "\n",
      "    WARNING: The semantics for the subset() and superset() methods\n",
      "    have been inverted after datatest 0.9.6. Make sure you are using\n",
      "    these methods correctly. See documentation for details:\n",
      "\n",
      "        https://datatest.readthedocs.io/en/stable/reference/datatest-core.html#datatest.validate.subset\n",
      "\n",
      "    To disable this warning use:\n",
      "\n",
      "        import warnings\n",
      "        warnings.filterwarnings('ignore', message='subset and superset warning')\n",
      "\n",
      "    If you are using pytest, you can disable warnings by putting the following\n",
      "    line at the top of your script:\n",
      "\n",
      "        pytestmark = pytest.mark.filterwarnings('ignore:subset and superset warning')\n",
      "\n",
      "    This warning is temporary--it will be removed from future versions\n",
      "    of datatest.\n",
      "\n",
      "Source:\n",
      "  function(*args, **kwds)\n",
      "ok\n",
      "\n",
      "----------------------------------------------------------------------\n",
      "Ran 1 test in 0.003s\n",
      "\n",
      "OK\n"
     ]
    },
    {
     "data": {
      "text/plain": [
       "<unittest.main.TestProgram at 0x203a1ccfd00>"
      ]
     },
     "execution_count": 21,
     "metadata": {},
     "output_type": "execute_result"
    }
   ],
   "source": [
    "class TestWriteFile(dt.DataTestCase):\n",
    "  \n",
    "\n",
    "    def test_columns2(self):\n",
    "\n",
    "        df_t = df.copy()\n",
    "        df_t.insert(2, 'newcol', None, False)\n",
    "\n",
    "        self.assertValidSuperset(\n",
    "            df_t['newcol'],\n",
    "            \n",
    "            {None,None,None}\n",
    "\n",
    "            )\n",
    "\n",
    "unittest.main(argv=[''], verbosity=2, exit=False)"
   ]
  },
  {
   "cell_type": "markdown",
   "metadata": {},
   "source": [
    "- **Test 4: Checking if function adds the column value as a scalar None list**  "
   ]
  },
  {
   "cell_type": "code",
   "execution_count": 22,
   "metadata": {},
   "outputs": [
    {
     "name": "stderr",
     "output_type": "stream",
     "text": [
      "test_columns (__main__.TestWriteFile) ... FAIL\n",
      "\n",
      "======================================================================\n",
      "FAIL: test_columns (__main__.TestWriteFile)\n",
      "----------------------------------------------------------------------\n",
      "Traceback (most recent call last):\n",
      "  File \"<ipython-input-22-0fdc864d0c2f>\", line 8, in test_columns\n",
      "    df_t.insert(2, 'newcol', [None,None,None], False\n",
      "AssertionError: Exception not raised\n",
      "\n",
      "----------------------------------------------------------------------\n",
      "Ran 1 test in 0.005s\n",
      "\n",
      "FAILED (failures=1)\n"
     ]
    },
    {
     "data": {
      "text/plain": [
       "<unittest.main.TestProgram at 0x203a1bcbe80>"
      ]
     },
     "execution_count": 22,
     "metadata": {},
     "output_type": "execute_result"
    }
   ],
   "source": [
    "\n",
    "class TestWriteFile(dt.DataTestCase):\n",
    "\n",
    "    def test_columns(self):\n",
    "\n",
    "        df_t = df.copy()\n",
    "        with self.assertRaises(Exception):\n",
    "        \n",
    "            df_t.insert(2, 'newcol', [None,None,None], False    \n",
    "\n",
    "        )\n",
    "unittest.main(argv=[''], verbosity=2, exit=False)\n",
    "\n"
   ]
  },
  {
   "cell_type": "markdown",
   "metadata": {},
   "source": [
    "- **Test 5: Checking if function adds the column value as a boolean**  "
   ]
  },
  {
   "cell_type": "code",
   "execution_count": 23,
   "metadata": {},
   "outputs": [
    {
     "name": "stderr",
     "output_type": "stream",
     "text": [
      "test_columns2 (__main__.TestWriteFile) ... ok\n",
      "\n",
      "----------------------------------------------------------------------\n",
      "Ran 1 test in 0.005s\n",
      "\n",
      "OK\n"
     ]
    },
    {
     "data": {
      "text/plain": [
       "<unittest.main.TestProgram at 0x203a1bf80d0>"
      ]
     },
     "execution_count": 23,
     "metadata": {},
     "output_type": "execute_result"
    }
   ],
   "source": [
    "class TestWriteFile(dt.DataTestCase):\n",
    "  \n",
    "\n",
    "    def test_columns2(self):\n",
    "\n",
    "        df_t = df.copy()\n",
    "        df_t.insert(2, 'newcol', True, False)\n",
    "\n",
    "        self.assertValid(\n",
    "            df_t['newcol'],\n",
    "            \n",
    "            {True, True, True}\n",
    "\n",
    "            )\n",
    "\n",
    "unittest.main(argv=[''], verbosity=2, exit=False)"
   ]
  },
  {
   "cell_type": "markdown",
   "metadata": {},
   "source": [
    "- **Test 6: Checking if function adds the column value as a list of different data types**  "
   ]
  },
  {
   "cell_type": "code",
   "execution_count": 24,
   "metadata": {},
   "outputs": [
    {
     "name": "stderr",
     "output_type": "stream",
     "text": [
      "test_columns (__main__.TestWriteFile) ... FAIL\n",
      "\n",
      "======================================================================\n",
      "FAIL: test_columns (__main__.TestWriteFile)\n",
      "----------------------------------------------------------------------\n",
      "Traceback (most recent call last):\n",
      "  File \"<ipython-input-24-9c8ef92d9107>\", line 8, in test_columns\n",
      "    df_t.insert(2, 'newcol', [1, 2.0, 'MathWorks'], False\n",
      "AssertionError: Exception not raised\n",
      "\n",
      "----------------------------------------------------------------------\n",
      "Ran 1 test in 0.003s\n",
      "\n",
      "FAILED (failures=1)\n"
     ]
    },
    {
     "data": {
      "text/plain": [
       "<unittest.main.TestProgram at 0x203a1cd15e0>"
      ]
     },
     "execution_count": 24,
     "metadata": {},
     "output_type": "execute_result"
    }
   ],
   "source": [
    "\n",
    "class TestWriteFile(dt.DataTestCase):\n",
    "\n",
    "    def test_columns(self):\n",
    "\n",
    "        df_t = df.copy()\n",
    "        with self.assertRaises(Exception):\n",
    "        \n",
    "            df_t.insert(2, 'newcol', [1, 2.0, 'MathWorks'], False    \n",
    "\n",
    "        )\n",
    "unittest.main(argv=[''], verbosity=2, exit=False)\n",
    "\n"
   ]
  },
  {
   "cell_type": "markdown",
   "metadata": {},
   "source": [
    "- **Test 7: Checking if function adds the column value as a series**  "
   ]
  },
  {
   "cell_type": "code",
   "execution_count": 25,
   "metadata": {},
   "outputs": [
    {
     "name": "stderr",
     "output_type": "stream",
     "text": [
      "test_columns2 (__main__.TestWriteFile) ... C:\\Users\\18572\\AppData\\Local\\Programs\\Python\\Python39\\lib\\site-packages\\datatest\\case.py:48: UserWarning: subset and superset warning:\n",
      "\n",
      "    WARNING: The semantics for the subset() and superset() methods\n",
      "    have been inverted after datatest 0.9.6. Make sure you are using\n",
      "    these methods correctly. See documentation for details:\n",
      "\n",
      "        https://datatest.readthedocs.io/en/stable/reference/datatest-core.html#datatest.validate.subset\n",
      "\n",
      "    To disable this warning use:\n",
      "\n",
      "        import warnings\n",
      "        warnings.filterwarnings('ignore', message='subset and superset warning')\n",
      "\n",
      "    If you are using pytest, you can disable warnings by putting the following\n",
      "    line at the top of your script:\n",
      "\n",
      "        pytestmark = pytest.mark.filterwarnings('ignore:subset and superset warning')\n",
      "\n",
      "    This warning is temporary--it will be removed from future versions\n",
      "    of datatest.\n",
      "\n",
      "Source:\n",
      "  function(*args, **kwds)\n",
      "ok\n",
      "\n",
      "----------------------------------------------------------------------\n",
      "Ran 1 test in 0.004s\n",
      "\n",
      "OK\n"
     ]
    },
    {
     "data": {
      "text/plain": [
       "<unittest.main.TestProgram at 0x203a1bcb910>"
      ]
     },
     "execution_count": 25,
     "metadata": {},
     "output_type": "execute_result"
    }
   ],
   "source": [
    "class TestWriteFile(dt.DataTestCase):\n",
    "  \n",
    "\n",
    "    def test_columns2(self):\n",
    "\n",
    "        df_t = df.copy()\n",
    "        df_t.insert(2, 'newcol', pd.Series([1, 2, 3]).values, False)\n",
    "\n",
    "        self.assertValidSuperset(\n",
    "            df_t['newcol'],\n",
    "            \n",
    "            {1,2,3}\n",
    "\n",
    "            )\n",
    "\n",
    "unittest.main(argv=[''], verbosity=2, exit=False)"
   ]
  },
  {
   "cell_type": "markdown",
   "metadata": {},
   "source": [
    "- **Test 7: EXCEPTION EDGE CASE** w/ **Test 2**\n",
    " "
   ]
  },
  {
   "cell_type": "markdown",
   "metadata": {},
   "source": [
    "Passing a series with less than RangeIndex"
   ]
  },
  {
   "cell_type": "code",
   "execution_count": 26,
   "metadata": {},
   "outputs": [
    {
     "name": "stderr",
     "output_type": "stream",
     "text": [
      "test_columns (__main__.TestWriteFile) ... FAIL\n",
      "\n",
      "======================================================================\n",
      "FAIL: test_columns (__main__.TestWriteFile)\n",
      "----------------------------------------------------------------------\n",
      "Traceback (most recent call last):\n",
      "  File \"<ipython-input-26-78de2e2111d1>\", line 8, in test_columns\n",
      "    df_t.insert(2, \"newcol\", pd.Series([5, 6])\n",
      "AssertionError: Exception not raised\n",
      "\n",
      "----------------------------------------------------------------------\n",
      "Ran 1 test in 0.004s\n",
      "\n",
      "FAILED (failures=1)\n"
     ]
    },
    {
     "data": {
      "text/plain": [
       "<unittest.main.TestProgram at 0x203a1ccf280>"
      ]
     },
     "execution_count": 26,
     "metadata": {},
     "output_type": "execute_result"
    }
   ],
   "source": [
    "\n",
    "class TestWriteFile(dt.DataTestCase):\n",
    "\n",
    "    def test_columns(self):\n",
    "\n",
    "        df_t = df.copy()\n",
    "        with self.assertRaises(Exception):\n",
    "        \n",
    "            df_t.insert(2, \"newcol\", pd.Series([5, 6])\n",
    "        )\n",
    "unittest.main(argv=[''], verbosity=2, exit=False)\n",
    "\n",
    "#As we can see now 'Exception not raised'\n",
    "\n"
   ]
  },
  {
   "cell_type": "markdown",
   "metadata": {},
   "source": [
    "Passing a series with more than RangeIndex"
   ]
  },
  {
   "cell_type": "code",
   "execution_count": 27,
   "metadata": {},
   "outputs": [
    {
     "name": "stderr",
     "output_type": "stream",
     "text": [
      "test_columns (__main__.TestWriteFile) ... FAIL\n",
      "\n",
      "======================================================================\n",
      "FAIL: test_columns (__main__.TestWriteFile)\n",
      "----------------------------------------------------------------------\n",
      "Traceback (most recent call last):\n",
      "  File \"<ipython-input-27-7e5df35eeaaa>\", line 8, in test_columns\n",
      "    df_t.insert(2, \"newcol\", pd.Series([5, 6, 7, 8, 9, 10])\n",
      "AssertionError: Exception not raised\n",
      "\n",
      "----------------------------------------------------------------------\n",
      "Ran 1 test in 0.005s\n",
      "\n",
      "FAILED (failures=1)\n"
     ]
    },
    {
     "data": {
      "text/plain": [
       "<unittest.main.TestProgram at 0x203a1ccf4c0>"
      ]
     },
     "execution_count": 27,
     "metadata": {},
     "output_type": "execute_result"
    }
   ],
   "source": [
    "\n",
    "class TestWriteFile(dt.DataTestCase):\n",
    "\n",
    "    def test_columns(self):\n",
    "\n",
    "        df_t = df.copy()\n",
    "        with self.assertRaises(Exception):\n",
    "        \n",
    "            df_t.insert(2, \"newcol\", pd.Series([5, 6, 7, 8, 9, 10])\n",
    "        )\n",
    "unittest.main(argv=[''], verbosity=2, exit=False)\n",
    "\n",
    "#As we can see now 'Exception not raised'\n",
    "\n"
   ]
  },
  {
   "cell_type": "markdown",
   "metadata": {},
   "source": [
    "- **Test 8: Checking if function adds the column value as a series list**  "
   ]
  },
  {
   "cell_type": "code",
   "execution_count": 28,
   "metadata": {},
   "outputs": [
    {
     "name": "stderr",
     "output_type": "stream",
     "text": [
      "test_columns2 (__main__.TestWriteFile) ... ok\n",
      "\n",
      "----------------------------------------------------------------------\n",
      "Ran 1 test in 0.004s\n",
      "\n",
      "OK\n"
     ]
    },
    {
     "data": {
      "text/plain": [
       "<unittest.main.TestProgram at 0x203a1cd06d0>"
      ]
     },
     "execution_count": 28,
     "metadata": {},
     "output_type": "execute_result"
    }
   ],
   "source": [
    "class TestWriteFile(dt.DataTestCase):\n",
    "  \n",
    "\n",
    "    def test_columns2(self):\n",
    "\n",
    "        df_t = df.copy()\n",
    "        df_t.insert(2, 'newcol', pd.Series(list('abc')), False)\n",
    "\n",
    "        self.assertValid(\n",
    "            df_t['newcol'],\n",
    "            \n",
    "            {'a','b','c'}\n",
    "\n",
    "            )\n",
    "\n",
    "unittest.main(argv=[''], verbosity=2, exit=False)"
   ]
  },
  {
   "cell_type": "markdown",
   "metadata": {},
   "source": [
    "- **Test 9: Checking if function adds the column value as a date time series**  "
   ]
  },
  {
   "cell_type": "code",
   "execution_count": 29,
   "metadata": {},
   "outputs": [
    {
     "name": "stderr",
     "output_type": "stream",
     "text": [
      "test_columns (__main__.TestWriteFile) ... FAIL\n",
      "\n",
      "======================================================================\n",
      "FAIL: test_columns (__main__.TestWriteFile)\n",
      "----------------------------------------------------------------------\n",
      "Traceback (most recent call last):\n",
      "  File \"<ipython-input-29-7f07fb5d46ae>\", line 8, in test_columns\n",
      "    df_t.insert(2, 'newcol', pd.Series(pd.date_range('20220330', periods=3, tz='US/Eastern')).values, False\n",
      "AssertionError: Exception not raised\n",
      "\n",
      "----------------------------------------------------------------------\n",
      "Ran 1 test in 0.096s\n",
      "\n",
      "FAILED (failures=1)\n"
     ]
    },
    {
     "data": {
      "text/plain": [
       "<unittest.main.TestProgram at 0x203a1ce41f0>"
      ]
     },
     "execution_count": 29,
     "metadata": {},
     "output_type": "execute_result"
    }
   ],
   "source": [
    "\n",
    "class TestWriteFile(dt.DataTestCase):\n",
    "\n",
    "    def test_columns(self):\n",
    "\n",
    "        df_t = df.copy()\n",
    "        with self.assertRaises(Exception):\n",
    "        \n",
    "            df_t.insert(2, 'newcol', pd.Series(pd.date_range('20220330', periods=3, tz='US/Eastern')).values, False    \n",
    "\n",
    "        )\n",
    "unittest.main(argv=[''], verbosity=2, exit=False)\n",
    "\n"
   ]
  },
  {
   "cell_type": "markdown",
   "metadata": {},
   "source": [
    "- **Test 9: Checking if function adds the column value as a list of list**  [EDGE CASE]"
   ]
  },
  {
   "cell_type": "code",
   "execution_count": 30,
   "metadata": {},
   "outputs": [
    {
     "name": "stderr",
     "output_type": "stream",
     "text": [
      "test_columns (__main__.TestWriteFile) ... FAIL\n",
      "\n",
      "======================================================================\n",
      "FAIL: test_columns (__main__.TestWriteFile)\n",
      "----------------------------------------------------------------------\n",
      "Traceback (most recent call last):\n",
      "  File \"<ipython-input-30-9d556399d5a1>\", line 8, in test_columns\n",
      "    df_t.insert(2, 'newcol', [1,\"Yash\",['a','e']], False\n",
      "AssertionError: Exception not raised\n",
      "\n",
      "----------------------------------------------------------------------\n",
      "Ran 1 test in 0.004s\n",
      "\n",
      "FAILED (failures=1)\n"
     ]
    },
    {
     "data": {
      "text/plain": [
       "<unittest.main.TestProgram at 0x203a1cefaf0>"
      ]
     },
     "execution_count": 30,
     "metadata": {},
     "output_type": "execute_result"
    }
   ],
   "source": [
    "\n",
    "class TestWriteFile(dt.DataTestCase):\n",
    "\n",
    "    def test_columns(self):\n",
    "\n",
    "        df_t = df.copy()\n",
    "        with self.assertRaises(Exception):\n",
    "        \n",
    "            df_t.insert(2, 'newcol', [1,\"Yash\",['a','e']], False    \n",
    "\n",
    "        )\n",
    "unittest.main(argv=[''], verbosity=2, exit=False)\n",
    "\n"
   ]
  },
  {
   "cell_type": "markdown",
   "metadata": {},
   "source": [
    "- **Test 10: Checking if function adds the column value as an array** "
   ]
  },
  {
   "cell_type": "code",
   "execution_count": 31,
   "metadata": {},
   "outputs": [
    {
     "name": "stderr",
     "output_type": "stream",
     "text": [
      "test_columns2 (__main__.TestWriteFile) ... ok\n",
      "\n",
      "----------------------------------------------------------------------\n",
      "Ran 1 test in 0.003s\n",
      "\n",
      "OK\n"
     ]
    },
    {
     "data": {
      "text/plain": [
       "<unittest.main.TestProgram at 0x203a1cf36a0>"
      ]
     },
     "execution_count": 31,
     "metadata": {},
     "output_type": "execute_result"
    }
   ],
   "source": [
    "import array\n",
    "\n",
    "class TestWriteFile(dt.DataTestCase):\n",
    "  \n",
    "\n",
    "    def test_columns2(self):\n",
    "\n",
    "        df_t = df.copy()\n",
    "        df_t.insert(2, 'newcol',  array.array('i', [1, 2, 3]), False)\n",
    "\n",
    "        self.assertValid(\n",
    "            df_t['newcol'],\n",
    "            \n",
    "            {1,2,3}\n",
    "\n",
    "            )\n",
    "\n",
    "unittest.main(argv=[''], verbosity=2, exit=False)"
   ]
  },
  {
   "cell_type": "markdown",
   "metadata": {},
   "source": [
    "- **Test 11: Checking if function adds the column value as an numpy array**  "
   ]
  },
  {
   "cell_type": "code",
   "execution_count": 32,
   "metadata": {},
   "outputs": [
    {
     "name": "stderr",
     "output_type": "stream",
     "text": [
      "test_columns (__main__.TestWriteFile) ... FAIL\n",
      "\n",
      "======================================================================\n",
      "FAIL: test_columns (__main__.TestWriteFile)\n",
      "----------------------------------------------------------------------\n",
      "Traceback (most recent call last):\n",
      "  File \"<ipython-input-32-c72874009af4>\", line 10, in test_columns\n",
      "    df_t.insert(2, 'newcol', numpy.array([1, 2.745, 3]), False\n",
      "AssertionError: Exception not raised\n",
      "\n",
      "----------------------------------------------------------------------\n",
      "Ran 1 test in 0.005s\n",
      "\n",
      "FAILED (failures=1)\n"
     ]
    },
    {
     "data": {
      "text/plain": [
       "<unittest.main.TestProgram at 0x203a1cf7580>"
      ]
     },
     "execution_count": 32,
     "metadata": {},
     "output_type": "execute_result"
    }
   ],
   "source": [
    "import numpy\n",
    "\n",
    "class TestWriteFile(dt.DataTestCase):\n",
    "\n",
    "    def test_columns(self):\n",
    "\n",
    "        df_t = df.copy()\n",
    "        with self.assertRaises(Exception):\n",
    "        \n",
    "            df_t.insert(2, 'newcol', numpy.array([1, 2.745, 3]), False    \n",
    "\n",
    "        )\n",
    "unittest.main(argv=[''], verbosity=2, exit=False)\n",
    "\n"
   ]
  },
  {
   "cell_type": "markdown",
   "metadata": {},
   "source": [
    "**TESTS for COLUMN DUPLICATES**  [Parameter: allow_duplicates] [Fixed at Position 2, Column name = 'newcol', Values: 97,98,99]"
   ]
  },
  {
   "cell_type": "markdown",
   "metadata": {},
   "source": [
    "- **Test 1: Checking if function adds the a duplicate column**  "
   ]
  },
  {
   "cell_type": "markdown",
   "metadata": {},
   "source": [
    "Creating a new DataFrame to add a Duplicate column"
   ]
  },
  {
   "cell_type": "code",
   "execution_count": 33,
   "metadata": {},
   "outputs": [
    {
     "data": {
      "text/html": [
       "<div>\n",
       "<style scoped>\n",
       "    .dataframe tbody tr th:only-of-type {\n",
       "        vertical-align: middle;\n",
       "    }\n",
       "\n",
       "    .dataframe tbody tr th {\n",
       "        vertical-align: top;\n",
       "    }\n",
       "\n",
       "    .dataframe thead th {\n",
       "        text-align: right;\n",
       "    }\n",
       "</style>\n",
       "<table border=\"1\" class=\"dataframe\">\n",
       "  <thead>\n",
       "    <tr style=\"text-align: right;\">\n",
       "      <th></th>\n",
       "      <th>numbers</th>\n",
       "      <th>colors</th>\n",
       "      <th>newcol</th>\n",
       "      <th>newcol</th>\n",
       "    </tr>\n",
       "  </thead>\n",
       "  <tbody>\n",
       "    <tr>\n",
       "      <th>0</th>\n",
       "      <td>1</td>\n",
       "      <td>red</td>\n",
       "      <td>97</td>\n",
       "      <td>97</td>\n",
       "    </tr>\n",
       "    <tr>\n",
       "      <th>1</th>\n",
       "      <td>2</td>\n",
       "      <td>white</td>\n",
       "      <td>98</td>\n",
       "      <td>98</td>\n",
       "    </tr>\n",
       "    <tr>\n",
       "      <th>2</th>\n",
       "      <td>3</td>\n",
       "      <td>blue</td>\n",
       "      <td>99</td>\n",
       "      <td>99</td>\n",
       "    </tr>\n",
       "  </tbody>\n",
       "</table>\n",
       "</div>"
      ],
      "text/plain": [
       "   numbers colors  newcol  newcol\n",
       "0        1    red      97      97\n",
       "1        2  white      98      98\n",
       "2        3   blue      99      99"
      ]
     },
     "execution_count": 33,
     "metadata": {},
     "output_type": "execute_result"
    }
   ],
   "source": [
    "df_new = pd.DataFrame([[1, 'red', 97, 97], [2, 'white', 98, 98],  [3, 'blue', 99, 99]],   columns= ['numbers', 'colors', 'newcol', 'newcol'])\n",
    "df_new\n"
   ]
  },
  {
   "cell_type": "markdown",
   "metadata": {},
   "source": [
    "DataFrame to add a duplicate column for testing"
   ]
  },
  {
   "cell_type": "code",
   "execution_count": 34,
   "metadata": {},
   "outputs": [
    {
     "data": {
      "text/html": [
       "<div>\n",
       "<style scoped>\n",
       "    .dataframe tbody tr th:only-of-type {\n",
       "        vertical-align: middle;\n",
       "    }\n",
       "\n",
       "    .dataframe tbody tr th {\n",
       "        vertical-align: top;\n",
       "    }\n",
       "\n",
       "    .dataframe thead th {\n",
       "        text-align: right;\n",
       "    }\n",
       "</style>\n",
       "<table border=\"1\" class=\"dataframe\">\n",
       "  <thead>\n",
       "    <tr style=\"text-align: right;\">\n",
       "      <th></th>\n",
       "      <th>numbers</th>\n",
       "      <th>colors</th>\n",
       "      <th>newcol</th>\n",
       "    </tr>\n",
       "  </thead>\n",
       "  <tbody>\n",
       "    <tr>\n",
       "      <th>0</th>\n",
       "      <td>1</td>\n",
       "      <td>red</td>\n",
       "      <td>97</td>\n",
       "    </tr>\n",
       "    <tr>\n",
       "      <th>1</th>\n",
       "      <td>2</td>\n",
       "      <td>white</td>\n",
       "      <td>98</td>\n",
       "    </tr>\n",
       "    <tr>\n",
       "      <th>2</th>\n",
       "      <td>3</td>\n",
       "      <td>blue</td>\n",
       "      <td>99</td>\n",
       "    </tr>\n",
       "  </tbody>\n",
       "</table>\n",
       "</div>"
      ],
      "text/plain": [
       "   numbers colors  newcol\n",
       "0        1    red      97\n",
       "1        2  white      98\n",
       "2        3   blue      99"
      ]
     },
     "execution_count": 34,
     "metadata": {},
     "output_type": "execute_result"
    }
   ],
   "source": [
    "df_test"
   ]
  },
  {
   "cell_type": "code",
   "execution_count": 35,
   "metadata": {},
   "outputs": [
    {
     "name": "stderr",
     "output_type": "stream",
     "text": [
      "test_columns (__main__.TestWriteFile) ... ok\n",
      "\n",
      "----------------------------------------------------------------------\n",
      "Ran 1 test in 0.006s\n",
      "\n",
      "OK\n"
     ]
    },
    {
     "data": {
      "text/plain": [
       "<unittest.main.TestProgram at 0x203a1cd0d60>"
      ]
     },
     "execution_count": 35,
     "metadata": {},
     "output_type": "execute_result"
    }
   ],
   "source": [
    "class TestWriteFile(dt.DataTestCase):\n",
    "\n",
    "    def test_columns(self):\n",
    "\n",
    "        df_t = df_test.copy()       \n",
    "        df_t.insert(3, 'newcol', [97, 98, 99], True)\n",
    "\n",
    "        pandas.testing.assert_frame_equal(df_t, df_new)\n",
    "\n",
    "unittest.main(argv=[''], verbosity=2, exit=False)"
   ]
  },
  {
   "cell_type": "markdown",
   "metadata": {},
   "source": [
    "- **Test 2: Checking if function adds the a duplicate column**  with parameter set to **False**"
   ]
  },
  {
   "cell_type": "code",
   "execution_count": 36,
   "metadata": {},
   "outputs": [
    {
     "name": "stderr",
     "output_type": "stream",
     "text": [
      "test_columns (__main__.TestWriteFile) ... ERROR\n",
      "\n",
      "======================================================================\n",
      "ERROR: test_columns (__main__.TestWriteFile)\n",
      "----------------------------------------------------------------------\n",
      "Traceback (most recent call last):\n",
      "  File \"<ipython-input-36-a346f69635b7>\", line 6, in test_columns\n",
      "    df_t.insert(2, 'newcol', [97, 98, 99], False)\n",
      "  File \"C:\\Users\\18572\\AppData\\Local\\Programs\\Python\\Python39\\lib\\site-packages\\pandas\\core\\frame.py\", line 3763, in insert\n",
      "    self._mgr.insert(loc, column, value, allow_duplicates=allow_duplicates)\n",
      "  File \"C:\\Users\\18572\\AppData\\Local\\Programs\\Python\\Python39\\lib\\site-packages\\pandas\\core\\internals\\managers.py\", line 1191, in insert\n",
      "    raise ValueError(f\"cannot insert {item}, already exists\")\n",
      "ValueError: cannot insert newcol, already exists\n",
      "\n",
      "----------------------------------------------------------------------\n",
      "Ran 1 test in 0.004s\n",
      "\n",
      "FAILED (errors=1)\n"
     ]
    },
    {
     "data": {
      "text/plain": [
       "<unittest.main.TestProgram at 0x203a1cf35e0>"
      ]
     },
     "execution_count": 36,
     "metadata": {},
     "output_type": "execute_result"
    }
   ],
   "source": [
    "class TestWriteFile(dt.DataTestCase):\n",
    "\n",
    "    def test_columns(self):\n",
    "\n",
    "        df_t = df_test.copy()       \n",
    "        df_t.insert(2, 'newcol', [97, 98, 99], False)\n",
    "\n",
    "        pandas.testing.assert_frame_equal(df_t, df_new)\n",
    "\n",
    "unittest.main(argv=[''], verbosity=2, exit=False)"
   ]
  },
  {
   "cell_type": "markdown",
   "metadata": {},
   "source": [
    "- **Test 3: Checking if function adds the a duplicate column at the position of the duplicate column**  "
   ]
  },
  {
   "cell_type": "code",
   "execution_count": 37,
   "metadata": {},
   "outputs": [
    {
     "name": "stderr",
     "output_type": "stream",
     "text": [
      "test_columns (__main__.TestWriteFile) ... ok\n",
      "\n",
      "----------------------------------------------------------------------\n",
      "Ran 1 test in 0.004s\n",
      "\n",
      "OK\n"
     ]
    },
    {
     "data": {
      "text/plain": [
       "<unittest.main.TestProgram at 0x203a1cf7670>"
      ]
     },
     "execution_count": 37,
     "metadata": {},
     "output_type": "execute_result"
    }
   ],
   "source": [
    "class TestWriteFile(dt.DataTestCase):\n",
    "\n",
    "    def test_columns(self):\n",
    "\n",
    "        df_t = df_test.copy()       \n",
    "        df_t.insert(2, 'newcol', [97, 98, 99], True)\n",
    "\n",
    "        pandas.testing.assert_frame_equal(df_t, df_new)\n",
    "\n",
    "unittest.main(argv=[''], verbosity=2, exit=False)"
   ]
  },
  {
   "cell_type": "markdown",
   "metadata": {},
   "source": [
    "- **Test 4: Checking if function adds the a duplicate column at the position of the duplicate column**  w/ Deafault Parameter which is equal to **False**"
   ]
  },
  {
   "cell_type": "code",
   "execution_count": 38,
   "metadata": {},
   "outputs": [
    {
     "name": "stderr",
     "output_type": "stream",
     "text": [
      "test_columns (__main__.TestWriteFile) ... ok\n",
      "\n",
      "----------------------------------------------------------------------\n",
      "Ran 1 test in 0.003s\n",
      "\n",
      "OK\n"
     ]
    },
    {
     "data": {
      "text/plain": [
       "<unittest.main.TestProgram at 0x203a1d06610>"
      ]
     },
     "execution_count": 38,
     "metadata": {},
     "output_type": "execute_result"
    }
   ],
   "source": [
    "import numpy\n",
    "\n",
    "class TestWriteFile(dt.DataTestCase):\n",
    "\n",
    "    def test_columns(self):\n",
    "\n",
    "        df_t = df_test.copy()       \n",
    "        with self.assertRaises(Exception):\n",
    "        \n",
    "            df_t.insert(2, 'newcol', [97, 98, 99], \n",
    "\n",
    "        )\n",
    "unittest.main(argv=[''], verbosity=2, exit=False)\n",
    "\n"
   ]
  },
  {
   "cell_type": "markdown",
   "metadata": {},
   "source": [
    "**ALL TESTS COMPLETED**"
   ]
  }
 ],
 "metadata": {
  "interpreter": {
   "hash": "ace8f37b8e60c3663f1441b604a73b794899611cfcff97f1e1a3223ce205d416"
  },
  "kernelspec": {
   "display_name": "Python 3.9.2 64-bit",
   "language": "python",
   "name": "python3"
  },
  "language_info": {
   "codemirror_mode": {
    "name": "ipython",
    "version": 3
   },
   "file_extension": ".py",
   "mimetype": "text/x-python",
   "name": "python",
   "nbconvert_exporter": "python",
   "pygments_lexer": "ipython3",
   "version": "3.9.2"
  },
  "orig_nbformat": 4
 },
 "nbformat": 4,
 "nbformat_minor": 2
}
